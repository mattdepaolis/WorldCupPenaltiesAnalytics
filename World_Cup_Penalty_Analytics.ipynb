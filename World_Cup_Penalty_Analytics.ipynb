{
 "cells": [
  {
   "cell_type": "markdown",
   "id": "85c90ad9",
   "metadata": {
    "id": "85c90ad9"
   },
   "source": [
    "# Sports Data Analytics: Analysis of Penalties\n",
    "\n",
    "From Matthias De Paolis & Tenzin Rungwatsang"
   ]
  },
  {
   "cell_type": "markdown",
   "id": "902ca017",
   "metadata": {
    "id": "902ca017",
    "toc": true
   },
   "source": [
    "<h1>Table of Contents<span class=\"tocSkip\"></span></h1>\n",
    "<div class=\"toc\"><ul class=\"toc-item\"><li><span><a href=\"#Factor:-Country\" data-toc-modified-id=\"Factor:-Country-1\"><span class=\"toc-item-num\">1&nbsp;&nbsp;</span>Factor: Country</a></span></li><li><span><a href=\"#History\" data-toc-modified-id=\"History-2\"><span class=\"toc-item-num\">2&nbsp;&nbsp;</span>History</a></span></li><li><span><a href=\"#Tribune\" data-toc-modified-id=\"Tribune-3\"><span class=\"toc-item-num\">3&nbsp;&nbsp;</span>Tribune</a></span></li><li><span><a href=\"#Foot-Factor\" data-toc-modified-id=\"Foot-Factor-4\"><span class=\"toc-item-num\">4&nbsp;&nbsp;</span>Foot Factor</a></span></li><li><span><a href=\"#Scoring-Probability\" data-toc-modified-id=\"Scoring-Probability-5\"><span class=\"toc-item-num\">5&nbsp;&nbsp;</span>Scoring Probability</a></span></li><li><span><a href=\"#Elimination Phase\" data-toc-modified-id=\"Elimination Phase-6\"><span class=\"toc-item-num\">6&nbsp;&nbsp;</span>Elimination Phase</a></span></li><li><span><a href=\"#Goal Zone\" data-toc-modified-id=\"Goal Zone-7\"><span class=\"toc-item-num\">7&nbsp;&nbsp;</span>Goal Zone</a></span></li><li><span><a href=\"#Goalkeeper\" data-toc-modified-id=\"Goalkeeper-8\"><span class=\"toc-item-num\">8&nbsp;&nbsp;</span>Goalkeeper</a></span></li></ul></div>\n"
   ]
  },
  {
   "cell_type": "markdown",
   "id": "59707bc8",
   "metadata": {
    "id": "59707bc8"
   },
   "source": [
    "## Factor: Country\n",
    "This section aims to examine whether there is a variation in the penalty shootout performances of different nations based on whether they are the host nation or guest nation."
   ]
  },
  {
   "cell_type": "code",
   "execution_count": null,
   "id": "e4a1a643",
   "metadata": {
    "id": "e4a1a643"
   },
   "outputs": [],
   "source": [
    "# load dataset\n",
    "import pandas as pd\n",
    "df = pd.read_excel(\"NEW_word_cup_penalty_dataset_extended.xlsx\")"
   ]
  },
  {
   "cell_type": "markdown",
   "id": "09bf11e2",
   "metadata": {
    "id": "09bf11e2"
   },
   "source": [
    "The follwoing code shows the performance of host nations in penalty shootouts in the given dataset by calculating the number of goals, on-target shots, missed shots, and total events. "
   ]
  },
  {
   "cell_type": "code",
   "execution_count": null,
   "id": "67b3ee36",
   "metadata": {
    "id": "67b3ee36",
    "outputId": "1740f0a6-bbe4-4882-c76d-dd6aefc5a7da"
   },
   "outputs": [
    {
     "name": "stdout",
     "output_type": "stream",
     "text": [
      "number of scores from host nation during PSO: 36\n",
      "number of goals a host nation scored in PSO: 27\n",
      "number of times goalkeeper from guest nation held ball: 7\n",
      "number of times player from host nation missed goal: 2\n"
     ]
    }
   ],
   "source": [
    "n_events_host = 0\n",
    "n_goal_host = 0\n",
    "n_onTarget_host = 0\n",
    "n_missed_host = 0\n",
    "\n",
    "for i in range(len(df)):\n",
    "    if df.loc[i]['Team'] == df.loc[i]['Country_Code']:\n",
    "        # count events\n",
    "        n_events_host += 1\n",
    "\n",
    "        # count goals\n",
    "        if df.loc[i]['Goal'] == 1:\n",
    "            n_goal_host += 1\n",
    "        # count goalkeeper held\n",
    "        elif df.loc[i]['OnTarget'] == 1:\n",
    "            n_onTarget_host += 1\n",
    "            \n",
    "        # count number of missed target\n",
    "        if df.loc[i]['OnTarget'] == 0:\n",
    "            n_missed_host += 1\n",
    "\n",
    "print(\"number of scores from host nation during PSO:\", n_events_host)\n",
    "print(\"number of goals a host nation scored in PSO:\", n_goal_host)\n",
    "print(\"number of times goalkeeper from guest nation held ball:\", n_onTarget_host)\n",
    "print(\"number of times player from host nation missed goal:\", n_missed_host)"
   ]
  },
  {
   "cell_type": "markdown",
   "id": "1c35e81d",
   "metadata": {
    "id": "1c35e81d"
   },
   "source": [
    "The follwoing code shows the performance of guest nations in penalty shootouts in the given dataset by calculating the number of goals, on-target shots, missed shots, and total events."
   ]
  },
  {
   "cell_type": "code",
   "execution_count": null,
   "id": "d12659dd",
   "metadata": {
    "id": "d12659dd",
    "outputId": "5dfaaaf9-5933-40df-c105-09145d961cde"
   },
   "outputs": [
    {
     "name": "stdout",
     "output_type": "stream",
     "text": [
      "number of scores from guest nation during PSO: 284\n",
      "number of goals a guest nation scored in PSO: 194\n",
      "number of times goalkeeper held ball: 64\n",
      "number of times player from missed goal: 26\n"
     ]
    }
   ],
   "source": [
    "n_events_guest = 0\n",
    "n_goal_guest = 0\n",
    "n_onTarget_guest = 0\n",
    "n_missed_guest = 0\n",
    "\n",
    "for i in range(len(df)):\n",
    "    if df.loc[i]['Team'] != df.loc[i]['Country_Code']:\n",
    "        # count events\n",
    "        n_events_guest += 1\n",
    "\n",
    "        # count goals\n",
    "        if df.loc[i]['Goal'] == 1:\n",
    "            n_goal_guest += 1\n",
    "        # count goalkeeper held\n",
    "        elif df.loc[i]['OnTarget'] == 1:\n",
    "            n_onTarget_guest += 1\n",
    "            \n",
    "        # count number of missed target\n",
    "        if df.loc[i]['OnTarget'] == 0:\n",
    "            n_missed_guest += 1\n",
    "\n",
    "print(\"number of scores from guest nation during PSO:\", n_events_guest)\n",
    "print(\"number of goals a guest nation scored in PSO:\", n_goal_guest)\n",
    "print(\"number of times goalkeeper held ball:\", n_onTarget_guest)\n",
    "print(\"number of times player from missed goal:\", n_missed_guest)"
   ]
  },
  {
   "cell_type": "markdown",
   "id": "7201a8c3",
   "metadata": {
    "id": "7201a8c3"
   },
   "source": [
    "This code generates a grouped bar chart using Seaborn to compare the performance of host and guest nations during penalty shootout."
   ]
  },
  {
   "cell_type": "code",
   "execution_count": null,
   "id": "eb42ce7e",
   "metadata": {
    "id": "eb42ce7e",
    "outputId": "4b0bb81b-46cc-4481-ccaf-aaa3d311d5f3"
   },
   "outputs": [
    {
     "data": {
      "image/png": "[encoded data removed]",
      "text/plain": [
       "<Figure size 710.875x432 with 1 Axes>"
      ]
     },
     "metadata": {},
     "output_type": "display_data"
    }
   ],
   "source": [
    "import seaborn as sns\n",
    "import matplotlib.pyplot as plt\n",
    "\n",
    "# Create a DataFrame with the data\n",
    "data = {'Type': ['Host', 'Host', 'Host', 'Guest', 'Guest', 'Guest'],\n",
    "        'Event': ['Total events', 'Goals scored', 'On-target shots held', 'Total events', 'Goals scored', 'On-target shots held'],\n",
    "        'Count': [n_events_host, n_goal_host, n_onTarget_host, n_events_guest, n_goal_guest, n_onTarget_guest]}\n",
    "df = pd.DataFrame(data)\n",
    "\n",
    "# Set up the chart\n",
    "sns.set_style(\"whitegrid\")\n",
    "g = sns.catplot(x=\"Event\", y=\"Count\", hue=\"Type\", data=df, kind=\"bar\", height=6, aspect=1.5)\n",
    "g.despine(left=True)\n",
    "g.set_ylabels(\"Count\")\n",
    "g.set_xlabels(\"Event\")\n",
    "g.fig.suptitle('Comparison of PSO events by host and guest nations', fontsize=18, y=1.05)\n",
    "\n",
    "# Show the chart\n",
    "plt.show()"
   ]
  },
  {
   "cell_type": "markdown",
   "id": "df694575",
   "metadata": {
    "id": "df694575"
   },
   "source": [
    "## History\n",
    "\n",
    "Which nation had the most PSO?"
   ]
  },
  {
   "cell_type": "markdown",
   "id": "6340c083",
   "metadata": {
    "id": "6340c083"
   },
   "source": [
    "The code below shows the number of participations and wins of different football teams in penalty shootouts of the World Cup."
   ]
  },
  {
   "cell_type": "code",
   "execution_count": null,
   "id": "f40a957a",
   "metadata": {
    "id": "f40a957a",
    "outputId": "0ad0aacf-f3e9-45cf-e762-5adc78eb4f24"
   },
   "outputs": [
    {
     "name": "stderr",
     "output_type": "stream",
     "text": [
      "C:\\Users\\rungw\\AppData\\Local\\Temp/ipykernel_28132/1925889658.py:15: SettingWithCopyWarning: \n",
      "A value is trying to be set on a copy of a slice from a DataFrame.\n",
      "Try using .loc[row_indexer,col_indexer] = value instead\n",
      "\n",
      "See the caveats in the documentation: https://pandas.pydata.org/pandas-docs/stable/user_guide/indexing.html#returning-a-view-versus-a-copy\n",
      "  team_counts_wins_filtered['Rank'] = team_counts_wins_filtered['Wins'].rank(method='min', ascending=False)\n"
     ]
    },
    {
     "data": {
      "image/png": "[encoded data removed]",
      "text/plain": [
       "<Figure size 864x576 with 1 Axes>"
      ]
     },
     "metadata": {},
     "output_type": "display_data"
    }
   ],
   "source": [
    "import pandas as pd\n",
    "import matplotlib.pyplot as plt\n",
    "\n",
    "# read the data\n",
    "df = pd.read_excel(\"NEW_word_cup_penalty_dataset_extended.xlsx\")\n",
    "\n",
    "# count and rank the number of participations\n",
    "team_counts_participations = df.groupby('Team')['Game_id'].nunique().reset_index(name='Participations')\n",
    "team_counts_participations['Rank'] = team_counts_participations['Participations'].rank(ascending=False)\n",
    "\n",
    "# count and rank the number of wins\n",
    "df['Is_Winner'] = df['Team'] == df['Winner']\n",
    "team_counts_wins = df.groupby('Team')['Is_Winner'].sum().reset_index(name='Wins')\n",
    "team_counts_wins_filtered = team_counts_wins[team_counts_wins['Wins'] > 0]\n",
    "team_counts_wins_filtered['Rank'] = team_counts_wins_filtered['Wins'].rank(method='min', ascending=False)\n",
    "\n",
    "# merge the two dataframes\n",
    "team_counts = team_counts_participations.merge(team_counts_wins_filtered, on='Team', how='left')\n",
    "team_counts['Wins'] = team_counts['Wins'].fillna(0)\n",
    "team_counts['Rank'] = team_counts['Rank_x'] + team_counts['Rank_y']\n",
    "team_counts = team_counts.drop(['Rank_x', 'Rank_y'], axis=1)\n",
    "team_counts = team_counts.sort_values(by='Rank')\n",
    "\n",
    "# plot the results\n",
    "fig, ax = plt.subplots(figsize=(12,8))\n",
    "ax.barh(team_counts['Team'], team_counts['Participations'], label='Participations', color='lightblue')\n",
    "ax.barh(team_counts['Team'], team_counts['Wins'], label='Wins', color='green')\n",
    "ax.set_xlabel('Count')\n",
    "ax.set_ylabel('Team')\n",
    "ax.set_title('Number of participations and wins in penalty shootouts')\n",
    "ax.legend()\n",
    "plt.show()\n"
   ]
  },
  {
   "cell_type": "markdown",
   "id": "6e4d3979",
   "metadata": {
    "id": "6e4d3979"
   },
   "source": [
    "This code analyzes the performance of soccer teams in penalty shootouts in FIFA World Cup history. "
   ]
  },
  {
   "cell_type": "code",
   "execution_count": null,
   "id": "72f5e63e",
   "metadata": {
    "id": "72f5e63e",
    "outputId": "48db60b2-4c6e-48ce-f279-eab3acc22ea4"
   },
   "outputs": [
    {
     "ename": "ModuleNotFoundError",
     "evalue": "No module named 'plotly'",
     "output_type": "error",
     "traceback": [
      "\u001b[1;31m---------------------------------------------------------------------------\u001b[0m",
      "\u001b[1;31mModuleNotFoundError\u001b[0m                       Traceback (most recent call last)",
      "\u001b[1;32m~\\AppData\\Local\\Temp/ipykernel_28132/1522010117.py\u001b[0m in \u001b[0;36m<module>\u001b[1;34m\u001b[0m\n\u001b[0;32m      1\u001b[0m \u001b[1;32mimport\u001b[0m \u001b[0mpandas\u001b[0m \u001b[1;32mas\u001b[0m \u001b[0mpd\u001b[0m\u001b[1;33m\u001b[0m\u001b[1;33m\u001b[0m\u001b[0m\n\u001b[1;32m----> 2\u001b[1;33m \u001b[1;32mimport\u001b[0m \u001b[0mplotly\u001b[0m\u001b[1;33m.\u001b[0m\u001b[0mexpress\u001b[0m \u001b[1;32mas\u001b[0m \u001b[0mpx\u001b[0m\u001b[1;33m\u001b[0m\u001b[1;33m\u001b[0m\u001b[0m\n\u001b[0m\u001b[0;32m      3\u001b[0m \u001b[1;33m\u001b[0m\u001b[0m\n\u001b[0;32m      4\u001b[0m \u001b[1;31m# read the data\u001b[0m\u001b[1;33m\u001b[0m\u001b[1;33m\u001b[0m\u001b[0m\n\u001b[0;32m      5\u001b[0m \u001b[0mdf\u001b[0m \u001b[1;33m=\u001b[0m \u001b[0mpd\u001b[0m\u001b[1;33m.\u001b[0m\u001b[0mread_excel\u001b[0m\u001b[1;33m(\u001b[0m\u001b[1;34m\"NEW_word_cup_penalty_dataset_extended.xlsx\"\u001b[0m\u001b[1;33m)\u001b[0m\u001b[1;33m\u001b[0m\u001b[1;33m\u001b[0m\u001b[0m\n",
      "\u001b[1;31mModuleNotFoundError\u001b[0m: No module named 'plotly'"
     ]
    }
   ],
   "source": [
    "import pandas as pd\n",
    "import plotly.express as px\n",
    "\n",
    "# read the data\n",
    "df = pd.read_excel(\"NEW_word_cup_penalty_dataset_extended.xlsx\")\n",
    "\n",
    "# count and rank the number of participations\n",
    "team_counts_participations = df.groupby('Team')['Game_id'].nunique().reset_index(name='Participations')\n",
    "team_counts_participations['Rank'] = team_counts_participations['Participations'].rank(ascending=False)\n",
    "\n",
    "# count and rank the number of wins\n",
    "df['Is_Winner'] = df['Team'] == df['Winner']\n",
    "team_counts_wins = df.groupby('Team')['Is_Winner'].sum().reset_index(name='Wins')\n",
    "team_counts_wins_filtered = team_counts_wins[team_counts_wins['Wins'] > 0]\n",
    "team_counts_wins_filtered['Rank'] = team_counts_wins_filtered['Wins'].rank(method='min', ascending=False)\n",
    "\n",
    "# merge the two dataframes\n",
    "team_counts = team_counts_participations.merge(team_counts_wins_filtered, on='Team', how='left')\n",
    "team_counts['Wins'] = team_counts['Wins'].fillna(0)\n",
    "team_counts['Rank'] = team_counts['Rank_x'] + team_counts['Rank_y']\n",
    "team_counts = team_counts.drop(['Rank_x', 'Rank_y'], axis=1)\n",
    "team_counts = team_counts.sort_values(by='Rank')\n",
    "\n",
    "# create a pie chart for the number of participations\n",
    "fig1 = px.pie(team_counts, values='Participations', names='Team', title='Number of Participations in Penalty Shootouts')\n",
    "fig1.show()\n",
    "\n",
    "# create a pie chart for the number of wins\n",
    "fig2 = px.pie(team_counts, values='Wins', names='Team', title='Number of Wins in Penalty Shootouts')\n",
    "fig2.show()\n"
   ]
  },
  {
   "cell_type": "markdown",
   "id": "d0d2feef",
   "metadata": {
    "id": "d0d2feef"
   },
   "source": [
    "## Tribune"
   ]
  },
  {
   "cell_type": "markdown",
   "id": "15ec3148",
   "metadata": {
    "id": "15ec3148"
   },
   "source": [
    "This code analyzes the number of goals scored and missed by each team in penalty shootouts when they are playing in front of their own fans. "
   ]
  },
  {
   "cell_type": "code",
   "execution_count": null,
   "id": "50ffaf0e",
   "metadata": {
    "id": "50ffaf0e",
    "outputId": "c74ae7cf-0d16-4702-d6da-57dff0e668eb"
   },
   "outputs": [
    {
     "data": {
      "image/png": "[encoded data removed]",
      "text/plain": [
       "<Figure size 720x720 with 1 Axes>"
      ]
     },
     "metadata": {},
     "output_type": "display_data"
    }
   ],
   "source": [
    "import pandas as pd\n",
    "import matplotlib.pyplot as plt\n",
    "\n",
    "df = pd.read_excel(\"NEW_word_cup_penalty_dataset_extended.xlsx\")\n",
    "\n",
    "# Count goals scored if Fan_Tribune is equal to team\n",
    "goal_count_scored = df.groupby(\"Team\")[\"Goal\"].apply(lambda x: (x[df[\"Fan_Tribune\"] == x.name] != 0).sum()).reset_index(name=\"Goals Scored\")\n",
    "\n",
    "# Count goals missed if Fan_Tribune is equal to team\n",
    "goal_count_missed = df.groupby(\"Team\")[\"Goal\"].apply(lambda x: (x[df[\"Fan_Tribune\"] == x.name] != 1).sum()).reset_index(name=\"Goals Missed\")\n",
    "\n",
    "# Merge the two dataframes\n",
    "merged_df = pd.merge(goal_count_scored, goal_count_missed, on=\"Team\")\n",
    "\n",
    "# Create a new column that is the sum of the \"Goals Scored\" and \"Goals Missed\" columns\n",
    "merged_df[\"Total Goals\"] = merged_df[\"Goals Scored\"] + merged_df[\"Goals Missed\"]\n",
    "\n",
    "# Filter out teams with 0 goals scored and missed\n",
    "merged_df = merged_df[(merged_df[\"Goals Scored\"] > 0) | (merged_df[\"Goals Missed\"] > 0)]\n",
    "\n",
    "# Sort the dataframe by \"Total Goals\" in descending order\n",
    "merged_df = merged_df.sort_values(\"Total Goals\", ascending=False)\n",
    "\n",
    "# Plot the results\n",
    "plt.figure(figsize=(10,10))\n",
    "plt.barh(merged_df[\"Team\"], merged_df[\"Goals Scored\"], label=\"Goals Scored\")\n",
    "plt.barh(merged_df[\"Team\"], merged_df[\"Goals Missed\"], left=merged_df[\"Goals Scored\"], label=\"Goals Missed\")\n",
    "plt.xlabel(\"Number of Goals\")\n",
    "plt.ylabel(\"Team\")\n",
    "plt.title(\"Goals Scored and Missed by Team in Front of own Fans\")\n",
    "plt.legend()\n",
    "plt.show()"
   ]
  },
  {
   "cell_type": "markdown",
   "id": "610917ba",
   "metadata": {
    "id": "610917ba"
   },
   "source": [
    "This code analyzes the success rate for penalties scored in front of home fans for each team in a given dataset."
   ]
  },
  {
   "cell_type": "code",
   "execution_count": null,
   "id": "2f99f3b8",
   "metadata": {
    "id": "2f99f3b8",
    "outputId": "42aa8293-e55e-4bb3-ff5a-362262df9b05"
   },
   "outputs": [
    {
     "data": {
      "image/png": "[encoded data removed]",
      "text/plain": [
       "<Figure size 720x576 with 1 Axes>"
      ]
     },
     "metadata": {},
     "output_type": "display_data"
    }
   ],
   "source": [
    "import pandas as pd\n",
    "import seaborn as sns\n",
    "import matplotlib.pyplot as plt\n",
    "\n",
    "# Read in the data\n",
    "df = pd.read_excel(\"NEW_word_cup_penalty_dataset_extended.xlsx\")\n",
    "\n",
    "# Calculate the number of goals scored by each team when shooting in front of their own fans\n",
    "goals_scored = df.groupby(\"Team\")[\"Goal\"].apply(lambda x: (x[df[\"Fan_Tribune\"] == x.name] != 0).sum()).reset_index(name=\"Goals Scored\")\n",
    "goals_scored = goals_scored[goals_scored[\"Goals Scored\"] != 0]\n",
    "\n",
    "# Calculate the number of goals missed by each team when shooting in front of their own fans\n",
    "goals_missed = df.groupby(\"Team\")[\"Goal\"].apply(lambda x: (x[df[\"Fan_Tribune\"] == x.name] != 1).sum()).reset_index(name=\"Goals Missed\")\n",
    "goals_missed = goals_missed[goals_missed[\"Goals Missed\"] != 0]\n",
    "\n",
    "# Merge the two dataframes\n",
    "df_goals = pd.merge(goals_scored, goals_missed, on=\"Team\")\n",
    "\n",
    "# Calculate the success rate for each team\n",
    "df_goals[\"Success Rate\"] = df_goals[\"Goals Scored\"] / (df_goals[\"Goals Scored\"] + df_goals[\"Goals Missed\"])\n",
    "\n",
    "# Sort the data by success rate\n",
    "df_goals = df_goals.sort_values(by=\"Success Rate\", ascending=False)\n",
    "\n",
    "# Create the plot\n",
    "sns.set_style(\"whitegrid\")\n",
    "fig, ax = plt.subplots(figsize=(10, 8))\n",
    "sns.barplot(x=\"Success Rate\", y=\"Team\", data=df_goals, color=\"blue\")\n",
    "\n",
    "# Add labels and title\n",
    "ax.set_xlabel(\"Success Rate\", fontsize=12)\n",
    "ax.set_ylabel(\"Team\", fontsize=12)\n",
    "ax.set_title(\"Success Rate for Penalties Scored in Front of Home Fans\", fontsize=16)\n",
    "\n",
    "# Add values to the bars\n",
    "for i, v in enumerate(df_goals[\"Success Rate\"]):\n",
    "    ax.text(v + 0.01, i + 0.2, str(round(v, 2)), color=\"black\", fontsize=12)\n",
    "\n",
    "# Show the plot\n",
    "plt.show()"
   ]
  },
  {
   "cell_type": "markdown",
   "id": "a7964612",
   "metadata": {
    "id": "a7964612"
   },
   "source": [
    "## Foot Factor"
   ]
  },
  {
   "cell_type": "markdown",
   "id": "a3d7a694",
   "metadata": {
    "id": "a3d7a694"
   },
   "source": [
    "This code analyzes the relationship between the foot used for a penalty shootout and the corresponding success rate."
   ]
  },
  {
   "cell_type": "code",
   "execution_count": null,
   "id": "3e5cf96a",
   "metadata": {
    "id": "3e5cf96a",
    "outputId": "37ccd14c-3c8c-4e74-c020-c575f78a5a72"
   },
   "outputs": [
    {
     "name": "stdout",
     "output_type": "stream",
     "text": [
      "Total goals by foot:\n",
      "Foot\n",
      "L     44\n",
      "R    177\n",
      "Name: Goal, dtype: int64\n",
      "\n",
      "Total shots by foot:\n",
      "Foot\n",
      "L     64\n",
      "R    256\n",
      "Name: Goal, dtype: int64\n",
      "\n",
      "Goal percentage by foot:\n",
      "Foot\n",
      "L    0.687500\n",
      "R    0.691406\n",
      "Name: Goal, dtype: float64\n"
     ]
    }
   ],
   "source": [
    "import pandas as pd\n",
    "\n",
    "# read the data\n",
    "df = pd.read_excel(\"NEW_word_cup_penalty_dataset_extended.xlsx\")\n",
    "\n",
    "# filter out rows with missing foot information\n",
    "df_foot = df.dropna(subset=['Foot'])\n",
    "\n",
    "# calculate the total number of goals scored with each foot\n",
    "goals_by_foot = df_foot.groupby('Foot')['Goal'].sum()\n",
    "\n",
    "# calculate the total number of shots taken with each foot\n",
    "shots_by_foot = df_foot.groupby('Foot')['Goal'].count()\n",
    "\n",
    "# calculate the percentage of shots that resulted in goals for each foot\n",
    "goal_percent_by_foot = goals_by_foot / shots_by_foot\n",
    "\n",
    "# print the results\n",
    "print(\"Total goals by foot:\")\n",
    "print(goals_by_foot)\n",
    "print()\n",
    "\n",
    "print(\"Total shots by foot:\")\n",
    "print(shots_by_foot)\n",
    "print()\n",
    "\n",
    "print(\"Goal percentage by foot:\")\n",
    "print(goal_percent_by_foot)"
   ]
  },
  {
   "cell_type": "markdown",
   "id": "b80f5cec",
   "metadata": {
    "id": "b80f5cec"
   },
   "source": [
    "This code analyzes the the relationship between which foot was used to kick the pnealty and the number of shots that missed the target."
   ]
  },
  {
   "cell_type": "code",
   "execution_count": null,
   "id": "91fa3914",
   "metadata": {
    "id": "91fa3914",
    "outputId": "ea2191af-cb96-48f1-f950-611e9f6183a1"
   },
   "outputs": [
    {
     "name": "stdout",
     "output_type": "stream",
     "text": [
      "Right Foot:\n",
      "Shots: 256\n",
      "Misses: 23\n",
      "Miss Percentage: 8.98%\n",
      "\n",
      "Left Foot:\n",
      "Shots: 64\n",
      "Misses: 5\n",
      "Miss Percentage: 7.81%\n"
     ]
    }
   ],
   "source": [
    "import pandas as pd\n",
    "\n",
    "# read the data\n",
    "df = pd.read_excel(\"NEW_word_cup_penalty_dataset_extended.xlsx\")\n",
    "\n",
    "# group the data by the \"Foot\" column\n",
    "foot_groups = df.groupby(\"Foot\")\n",
    "\n",
    "# calculate the number of shots, the number of shots that missed, and the percentage of shots that missed for each foot\n",
    "foot_shots = foot_groups.size()\n",
    "foot_misses = foot_shots - foot_groups[\"OnTarget\"].sum()\n",
    "foot_miss_percent = (foot_misses / foot_shots) * 100\n",
    "\n",
    "# print the results\n",
    "print(\"Right Foot:\")\n",
    "print(f\"Shots: {foot_shots['R']}\")\n",
    "print(f\"Misses: {foot_misses['R']}\")\n",
    "print(f\"Miss Percentage: {foot_miss_percent['R']:.2f}%\")\n",
    "\n",
    "print(\"\\nLeft Foot:\")\n",
    "print(f\"Shots: {foot_shots['L']}\")\n",
    "print(f\"Misses: {foot_misses['L']}\")\n",
    "print(f\"Miss Percentage: {foot_miss_percent['L']:.2f}%\")"
   ]
  },
  {
   "cell_type": "markdown",
   "id": "e84af688",
   "metadata": {
    "id": "e84af688"
   },
   "source": [
    "The code below shows the proportion on goal scoring between players which kick the penalty with the right foot and player that kick the penalty with the left foot. The difference is marginal."
   ]
  },
  {
   "cell_type": "code",
   "execution_count": null,
   "id": "6307df94",
   "metadata": {
    "id": "6307df94",
    "outputId": "c3fb20a3-5b93-4375-bdc4-1d5b1843f5cc"
   },
   "outputs": [
    {
     "name": "stdout",
     "output_type": "stream",
     "text": [
      "Goal   0    1  proportion\n",
      "Foot                     \n",
      "L     15   44    0.745763\n",
      "R     56  177    0.759657\n"
     ]
    },
    {
     "data": {
      "image/png": "[encoded data removed]",
      "text/plain": [
       "<Figure size 432x288 with 1 Axes>"
      ]
     },
     "metadata": {},
     "output_type": "display_data"
    }
   ],
   "source": [
    "import pandas as pd\n",
    "import seaborn as sns\n",
    "import matplotlib.pyplot as plt\n",
    "\n",
    "# read the data\n",
    "df = pd.read_excel(\"NEW_word_cup_penalty_dataset_extended.xlsx\")\n",
    "\n",
    "# Subset the data to only include shots on target\n",
    "shots_on_target = df[df['OnTarget'] == 1]\n",
    "\n",
    "# Create a contingency table of foot and goals scored\n",
    "foot_goals_table = pd.crosstab(index=shots_on_target['Foot'], columns=shots_on_target['Goal'])\n",
    "\n",
    "# Calculate the proportion of goals scored for each foot\n",
    "foot_goals_table['proportion'] = foot_goals_table[1] / (foot_goals_table[0] + foot_goals_table[1])\n",
    "\n",
    "# Print the contingency table\n",
    "print(foot_goals_table)\n",
    "\n",
    "# Create a bar plot of the proportion of goals scored for each foot\n",
    "sns.barplot(x=foot_goals_table.index, y=foot_goals_table['proportion'])\n",
    "plt.title('Proportion of Goals Scored by Foot')\n",
    "plt.xlabel('Foot')\n",
    "plt.ylabel('Proportion of Goals Scored')\n",
    "plt.show()"
   ]
  },
  {
   "cell_type": "markdown",
   "id": "3684e4ea",
   "metadata": {
    "id": "3684e4ea"
   },
   "source": [
    "## Stage\n",
    "\n",
    "The code illustrates the variation in scores across the different stages of the tournament, highlighting a noticeable contrast between them."
   ]
  },
  {
   "cell_type": "code",
   "execution_count": null,
   "id": "4dfc1d30",
   "metadata": {
    "id": "4dfc1d30",
    "outputId": "06804b7b-3f92-4206-9f6e-2aeb33da06b7"
   },
   "outputs": [
    {
     "data": {
      "image/png": "[encoded data removed]",
      "text/plain": [
       "<Figure size 432x288 with 1 Axes>"
      ]
     },
     "metadata": {},
     "output_type": "display_data"
    }
   ],
   "source": [
    "import pandas as pd\n",
    "import seaborn as sns\n",
    "import matplotlib.pyplot as plt\n",
    "\n",
    "# Load the dataset\n",
    "df = pd.read_excel(\"NEW_word_cup_penalty_dataset_extended.xlsx\")\n",
    "\n",
    "# Create a new column \"Reward\" that takes the value 1 if a goal was scored and 0 otherwise\n",
    "df['Reward'] = df['Goal'].apply(lambda x: 1 if x==1 else 0)\n",
    "\n",
    "# Group the dataframe by game and calculate the sum of rewards to get the total number of goals scored in each game\n",
    "goals = df.groupby(['Year', 'Stage'])['Reward'].sum()\n",
    "\n",
    "# Count the number of penalties taken in each game\n",
    "penalties = df.groupby(['Year', 'Stage'])['Penalty_Number'].count()\n",
    "\n",
    "# Calculate the probability of scoring a goal in each game\n",
    "probabilities = goals/penalties\n",
    "\n",
    "# Reset the index of the probabilities dataframe to make the Year and Stage columns into regular columns\n",
    "probabilities = probabilities.reset_index()\n",
    "probabilities.rename(columns = {0:'Probability'}, inplace = True)\n",
    "\n",
    "# Create the boxplot\n",
    "sns.boxplot(x=probabilities['Probability'], y=probabilities['Stage'])\n",
    "\n",
    "\n",
    "plt.title('Probability of Scoring a Penalty in World Cup Games')\n",
    "plt.xlabel('Probability of Scoring a Penalty')\n",
    "plt.show()"
   ]
  },
  {
   "cell_type": "markdown",
   "id": "551c0616",
   "metadata": {
    "id": "551c0616"
   },
   "source": [
    "## Elimination Phase"
   ]
  },
  {
   "cell_type": "markdown",
   "id": "acedc6ab",
   "metadata": {
    "id": "acedc6ab"
   },
   "source": [
    "A comparison of the decisive penalty shots with the non-decisive penalty shots."
   ]
  },
  {
   "cell_type": "code",
   "execution_count": null,
   "id": "cf9cfd76",
   "metadata": {
    "id": "cf9cfd76"
   },
   "outputs": [],
   "source": [
    "# All shots at elimination phase\n",
    "totalgoals_elim = df[df.Elimination == 1].shape[0]"
   ]
  },
  {
   "cell_type": "code",
   "execution_count": null,
   "id": "3365d141",
   "metadata": {
    "id": "3365d141"
   },
   "outputs": [],
   "source": [
    "# Goals hit at elimination phase\n",
    "goals_elim = df.query(\"Goal == 1 & Elimination == 1\").shape[0]"
   ]
  },
  {
   "cell_type": "code",
   "execution_count": null,
   "id": "afccf7d5",
   "metadata": {
    "id": "afccf7d5"
   },
   "outputs": [],
   "source": [
    "# Shots outside the goal at elimination phase\n",
    "outside_elim = df.query(\"Goal == 0 & Elimination == 1 & OnTarget == 0\").shape[0]"
   ]
  },
  {
   "cell_type": "code",
   "execution_count": null,
   "id": "c2a1869c",
   "metadata": {
    "id": "c2a1869c"
   },
   "outputs": [],
   "source": [
    "# get numbers of held shots\n",
    "held_elim = totalgoals_elim - goals_elim - outside_elim"
   ]
  },
  {
   "cell_type": "code",
   "execution_count": null,
   "id": "cb853b59",
   "metadata": {
    "id": "cb853b59"
   },
   "outputs": [],
   "source": [
    "# create Plot\n",
    "from matplotlib import pyplot as plt\n",
    "shots_elim = [goals_elim, held_elim, outside_elim]\n",
    "labels = [\"Goals\", \"Held\", \"Outside\"]"
   ]
  },
  {
   "cell_type": "code",
   "execution_count": null,
   "id": "3fd589e8",
   "metadata": {
    "id": "3fd589e8",
    "outputId": "1553ee11-1849-4f94-a78b-e77b4249ff3b"
   },
   "outputs": [
    {
     "data": {
      "image/png": "[encoded data removed]",
      "text/plain": [
       "<Figure size 720x504 with 1 Axes>"
      ]
     },
     "metadata": {},
     "output_type": "display_data"
    }
   ],
   "source": [
    "# Pie plot\n",
    "pie_elim = plt.figure(figsize =(10, 7))\n",
    "mycolors = [\"mediumseagreen\", \"Salmon\", \"Red\"]\n",
    "plt.pie(shots_elim, labels = labels, autopct='%1.1f%%', colors = mycolors)\n",
    "\n",
    "plt.title(\"Shots in elimination phase\", fontsize = 15)\n",
    "plt.show()"
   ]
  },
  {
   "cell_type": "code",
   "execution_count": null,
   "id": "0a8fff6b",
   "metadata": {
    "id": "0a8fff6b"
   },
   "outputs": [],
   "source": [
    "# All shots at elimination phase\n",
    "totalgoals_normal = df[df.Elimination == 0].shape[0]\n",
    "\n",
    "# Goals hit at \"normal\" phase\n",
    "goals_normal = df.query(\"Goal == 1 & Elimination == 0\").shape[0]\n",
    "\n",
    "# Shots outside the goal \n",
    "outside_normal = df.query(\"Goal == 0 & Elimination == 0 & OnTarget == 0\").shape[0]\n",
    "\n",
    "# misses\n",
    "held_normal = totalgoals_normal - goals_normal - outside_normal"
   ]
  },
  {
   "cell_type": "code",
   "execution_count": null,
   "id": "cc0e0921",
   "metadata": {
    "id": "cc0e0921",
    "outputId": "89af47c1-cea6-424d-ca76-2569898d0cdd"
   },
   "outputs": [
    {
     "data": {
      "image/png": "[encoded data removed]",
      "text/plain": [
       "<Figure size 720x504 with 1 Axes>"
      ]
     },
     "metadata": {},
     "output_type": "display_data"
    }
   ],
   "source": [
    "# Pie plot\n",
    "goals_normal = [goals_normal, held_normal, outside_normal]\n",
    "labels = [\"Goals\", \"Held\", \"Outside\"]\n",
    "\n",
    "pie_elim = plt.figure(figsize =(10, 7))\n",
    "mycolors = [\"mediumseagreen\", \"Salmon\", \"Red\"]\n",
    "plt.pie(goals_normal, labels = labels, autopct='%1.1f%%', colors = mycolors)\n",
    "\n",
    "plt.title(\"Shots before elimination phase\", fontsize = 15)\n",
    "plt.show()"
   ]
  },
  {
   "cell_type": "markdown",
   "id": "a73a1a39",
   "metadata": {
    "id": "a73a1a39"
   },
   "source": [
    "## Goal Zone"
   ]
  },
  {
   "cell_type": "markdown",
   "id": "4269e520",
   "metadata": {
    "id": "4269e520"
   },
   "source": [
    "A comparison of the zones in which successful shots are made, as well as in the decisive shot."
   ]
  },
  {
   "cell_type": "code",
   "execution_count": null,
   "id": "094050be",
   "metadata": {
    "id": "094050be",
    "outputId": "eec3bc46-885f-466d-bddc-a2e1fea750bd"
   },
   "outputs": [
    {
     "data": {
      "text/html": [
       "<div>\n",
       "<style scoped>\n",
       "    .dataframe tbody tr th:only-of-type {\n",
       "        vertical-align: middle;\n",
       "    }\n",
       "\n",
       "    .dataframe tbody tr th {\n",
       "        vertical-align: top;\n",
       "    }\n",
       "\n",
       "    .dataframe thead th {\n",
       "        text-align: right;\n",
       "    }\n",
       "</style>\n",
       "<table border=\"1\" class=\"dataframe\">\n",
       "  <thead>\n",
       "    <tr style=\"text-align: right;\">\n",
       "      <th></th>\n",
       "      <th>Goal_Zone</th>\n",
       "      <th>Goal_Level</th>\n",
       "      <th>Goal_Side</th>\n",
       "      <th>Goal</th>\n",
       "      <th>Elimination</th>\n",
       "    </tr>\n",
       "  </thead>\n",
       "  <tbody>\n",
       "    <tr>\n",
       "      <th>0</th>\n",
       "      <td>7</td>\n",
       "      <td>down</td>\n",
       "      <td>L</td>\n",
       "      <td>1</td>\n",
       "      <td>0</td>\n",
       "    </tr>\n",
       "    <tr>\n",
       "      <th>1</th>\n",
       "      <td>9</td>\n",
       "      <td>down</td>\n",
       "      <td>R</td>\n",
       "      <td>1</td>\n",
       "      <td>0</td>\n",
       "    </tr>\n",
       "    <tr>\n",
       "      <th>2</th>\n",
       "      <td>6</td>\n",
       "      <td>middle</td>\n",
       "      <td>R</td>\n",
       "      <td>1</td>\n",
       "      <td>0</td>\n",
       "    </tr>\n",
       "    <tr>\n",
       "      <th>3</th>\n",
       "      <td>2</td>\n",
       "      <td>top</td>\n",
       "      <td>C</td>\n",
       "      <td>1</td>\n",
       "      <td>0</td>\n",
       "    </tr>\n",
       "    <tr>\n",
       "      <th>4</th>\n",
       "      <td>9</td>\n",
       "      <td>down</td>\n",
       "      <td>R</td>\n",
       "      <td>1</td>\n",
       "      <td>0</td>\n",
       "    </tr>\n",
       "  </tbody>\n",
       "</table>\n",
       "</div>"
      ],
      "text/plain": [
       "   Goal_Zone Goal_Level Goal_Side  Goal  Elimination\n",
       "0          7       down         L     1            0\n",
       "1          9       down         R     1            0\n",
       "2          6     middle         R     1            0\n",
       "3          2        top         C     1            0\n",
       "4          9       down         R     1            0"
      ]
     },
     "execution_count": 81,
     "metadata": {},
     "output_type": "execute_result"
    }
   ],
   "source": [
    "# create Dataframe with only necessary columns\n",
    "zone_df = df[[\"Goal_Zone\",\"Goal_Level\", \"Goal_Side\", \"Goal\", \"Elimination\"]]\n",
    "\n",
    "# Selecting only rows with successful goals\n",
    "goal_df = zone_df[zone_df.Goal == 1]                        \n",
    "goal_df.head()"
   ]
  },
  {
   "cell_type": "code",
   "execution_count": null,
   "id": "ca05720d",
   "metadata": {
    "id": "ca05720d",
    "outputId": "af34384f-accd-4713-e01e-58a7c016b920"
   },
   "outputs": [
    {
     "name": "stdout",
     "output_type": "stream",
     "text": [
      "['top', 'middle', 'down']\n",
      "['L', 'C', 'R']\n"
     ]
    }
   ],
   "source": [
    "# Zones of Goals\n",
    "goal_level = goal_df['Goal_Level'].unique()\n",
    "goal_level = [\"top\", \"middle\", \"down\"]\n",
    "print(goal_level)\n",
    "\n",
    "goal_side = goal_df['Goal_Side'].unique()\n",
    "goal_side = [\"L\", \"C\", \"R\"]\n",
    "print(goal_side)"
   ]
  },
  {
   "cell_type": "code",
   "execution_count": null,
   "id": "a1851714",
   "metadata": {
    "id": "a1851714",
    "outputId": "a1323f93-3f43-43cf-a883-05a0ae9ac5c9"
   },
   "outputs": [
    {
     "name": "stdout",
     "output_type": "stream",
     "text": [
      "1 [22]\n",
      "2 [22, 13]\n",
      "3 [22, 13, 14]\n",
      "4 [22, 13, 14, 31]\n",
      "5 [22, 13, 14, 31, 14]\n",
      "6 [22, 13, 14, 31, 14, 28]\n",
      "7 [22, 13, 14, 31, 14, 28, 48]\n",
      "8 [22, 13, 14, 31, 14, 28, 48, 16]\n",
      "9 [22, 13, 14, 31, 14, 28, 48, 16, 35]\n",
      "[22, 13, 14, 31, 14, 28, 48, 16, 35]\n"
     ]
    }
   ],
   "source": [
    "# count occurence of zone numbers\n",
    "zones_list = goal_df['Goal_Zone'].values.tolist()\n",
    "\n",
    "count = []\n",
    "num = 0\n",
    "for num in range(1,10):\n",
    "    x = zones_list.count(num)\n",
    "    count.append(x)\n",
    "    print(num, count)\n",
    "\n",
    "# show list\n",
    "print(count)"
   ]
  },
  {
   "cell_type": "code",
   "execution_count": null,
   "id": "0ea9e02e",
   "metadata": {
    "id": "0ea9e02e",
    "outputId": "54435a9b-d5e5-436a-997a-5bec56991d8e"
   },
   "outputs": [
    {
     "name": "stderr",
     "output_type": "stream",
     "text": [
      "C:\\Users\\rungw\\AppData\\Local\\Temp/ipykernel_28132/2998956032.py:23: SettingWithCopyWarning: \n",
      "A value is trying to be set on a copy of a slice from a DataFrame.\n",
      "Try using .loc[row_indexer,col_indexer] = value instead\n",
      "\n",
      "See the caveats in the documentation: https://pandas.pydata.org/pandas-docs/stable/user_guide/indexing.html#returning-a-view-versus-a-copy\n",
      "  goal_df[\"Goal_count\"] = goal_df.apply(f, axis=1)\n"
     ]
    },
    {
     "data": {
      "text/html": [
       "<div>\n",
       "<style scoped>\n",
       "    .dataframe tbody tr th:only-of-type {\n",
       "        vertical-align: middle;\n",
       "    }\n",
       "\n",
       "    .dataframe tbody tr th {\n",
       "        vertical-align: top;\n",
       "    }\n",
       "\n",
       "    .dataframe thead th {\n",
       "        text-align: right;\n",
       "    }\n",
       "</style>\n",
       "<table border=\"1\" class=\"dataframe\">\n",
       "  <thead>\n",
       "    <tr style=\"text-align: right;\">\n",
       "      <th></th>\n",
       "      <th>Goal_Zone</th>\n",
       "      <th>Goal_Level</th>\n",
       "      <th>Goal_Side</th>\n",
       "      <th>Goal</th>\n",
       "      <th>Elimination</th>\n",
       "      <th>Goal_count</th>\n",
       "    </tr>\n",
       "  </thead>\n",
       "  <tbody>\n",
       "    <tr>\n",
       "      <th>0</th>\n",
       "      <td>7</td>\n",
       "      <td>down</td>\n",
       "      <td>L</td>\n",
       "      <td>1</td>\n",
       "      <td>0</td>\n",
       "      <td>21.72</td>\n",
       "    </tr>\n",
       "    <tr>\n",
       "      <th>1</th>\n",
       "      <td>9</td>\n",
       "      <td>down</td>\n",
       "      <td>R</td>\n",
       "      <td>1</td>\n",
       "      <td>0</td>\n",
       "      <td>15.84</td>\n",
       "    </tr>\n",
       "    <tr>\n",
       "      <th>2</th>\n",
       "      <td>6</td>\n",
       "      <td>middle</td>\n",
       "      <td>R</td>\n",
       "      <td>1</td>\n",
       "      <td>0</td>\n",
       "      <td>12.67</td>\n",
       "    </tr>\n",
       "    <tr>\n",
       "      <th>3</th>\n",
       "      <td>2</td>\n",
       "      <td>top</td>\n",
       "      <td>C</td>\n",
       "      <td>1</td>\n",
       "      <td>0</td>\n",
       "      <td>5.88</td>\n",
       "    </tr>\n",
       "    <tr>\n",
       "      <th>4</th>\n",
       "      <td>9</td>\n",
       "      <td>down</td>\n",
       "      <td>R</td>\n",
       "      <td>1</td>\n",
       "      <td>0</td>\n",
       "      <td>15.84</td>\n",
       "    </tr>\n",
       "  </tbody>\n",
       "</table>\n",
       "</div>"
      ],
      "text/plain": [
       "   Goal_Zone Goal_Level Goal_Side  Goal  Elimination  Goal_count\n",
       "0          7       down         L     1            0       21.72\n",
       "1          9       down         R     1            0       15.84\n",
       "2          6     middle         R     1            0       12.67\n",
       "3          2        top         C     1            0        5.88\n",
       "4          9       down         R     1            0       15.84"
      ]
     },
     "execution_count": 84,
     "metadata": {},
     "output_type": "execute_result"
    }
   ],
   "source": [
    "# add new column with counted goals in percent each zone\n",
    "def f(goal_df):\n",
    "    if goal_df['Goal_Zone'] == 1:\n",
    "        val = 9.95\n",
    "    elif goal_df['Goal_Zone'] == 2:\n",
    "        val = 5.88\n",
    "    elif goal_df['Goal_Zone'] == 3:\n",
    "        val = 6.33\n",
    "    elif goal_df['Goal_Zone'] == 4:\n",
    "        val = 14.04\n",
    "    elif goal_df['Goal_Zone'] == 5:\n",
    "        val = 6.33\n",
    "    elif goal_df['Goal_Zone'] == 6:\n",
    "        val = 12.67\n",
    "    elif goal_df['Goal_Zone'] == 7:\n",
    "        val = 21.72\n",
    "    elif goal_df['Goal_Zone'] == 8:\n",
    "        val = 7.24\n",
    "    else:\n",
    "        val = 15.84\n",
    "    return val\n",
    "\n",
    "goal_df[\"Goal_count\"] = goal_df.apply(f, axis=1)\n",
    "goal_df.head()"
   ]
  },
  {
   "cell_type": "code",
   "execution_count": null,
   "id": "431cd624",
   "metadata": {
    "id": "431cd624",
    "outputId": "a14f0a0f-78f1-4de3-a782-9656a0815765"
   },
   "outputs": [
    {
     "data": {
      "text/html": [
       "<div>\n",
       "<style scoped>\n",
       "    .dataframe tbody tr th:only-of-type {\n",
       "        vertical-align: middle;\n",
       "    }\n",
       "\n",
       "    .dataframe tbody tr th {\n",
       "        vertical-align: top;\n",
       "    }\n",
       "\n",
       "    .dataframe thead th {\n",
       "        text-align: right;\n",
       "    }\n",
       "</style>\n",
       "<table border=\"1\" class=\"dataframe\">\n",
       "  <thead>\n",
       "    <tr style=\"text-align: right;\">\n",
       "      <th>Goal_Side</th>\n",
       "      <th>L</th>\n",
       "      <th>C</th>\n",
       "      <th>R</th>\n",
       "    </tr>\n",
       "    <tr>\n",
       "      <th>Goal_Level</th>\n",
       "      <th></th>\n",
       "      <th></th>\n",
       "      <th></th>\n",
       "    </tr>\n",
       "  </thead>\n",
       "  <tbody>\n",
       "    <tr>\n",
       "      <th>top</th>\n",
       "      <td>9.95</td>\n",
       "      <td>5.88</td>\n",
       "      <td>6.33</td>\n",
       "    </tr>\n",
       "    <tr>\n",
       "      <th>middle</th>\n",
       "      <td>14.04</td>\n",
       "      <td>6.33</td>\n",
       "      <td>12.67</td>\n",
       "    </tr>\n",
       "    <tr>\n",
       "      <th>down</th>\n",
       "      <td>21.72</td>\n",
       "      <td>7.24</td>\n",
       "      <td>15.84</td>\n",
       "    </tr>\n",
       "  </tbody>\n",
       "</table>\n",
       "</div>"
      ],
      "text/plain": [
       "Goal_Side       L     C      R\n",
       "Goal_Level                    \n",
       "top          9.95  5.88   6.33\n",
       "middle      14.04  6.33  12.67\n",
       "down        21.72  7.24  15.84"
      ]
     },
     "execution_count": 85,
     "metadata": {},
     "output_type": "execute_result"
    }
   ],
   "source": [
    "# create Pivot table\n",
    "goal_df2 = pd.pivot_table(goal_df,index=['Goal_Level'], columns = 'Goal_Side', values = \"Goal_count\")\n",
    "\n",
    "# change index and column order in pivot table\n",
    "col_order = [\"L\", \"C\", \"R\"]\n",
    "index_order = [\"top\", \"middle\", \"down\"]\n",
    "goal_df2 = goal_df2.reindex(col_order, axis=1)\n",
    "goal_df2 = goal_df2.reindex(index_order, axis=0)\n",
    "goal_df2"
   ]
  },
  {
   "cell_type": "code",
   "execution_count": null,
   "id": "90200baa",
   "metadata": {
    "id": "90200baa",
    "outputId": "2d327baf-9f95-4c19-9ae5-9fbc990d22c4"
   },
   "outputs": [
    {
     "data": {
      "text/plain": [
       "Text(88.0, 0.5, 'Level')"
      ]
     },
     "execution_count": 86,
     "metadata": {},
     "output_type": "execute_result"
    },
    {
     "data": {
      "image/png": "[encoded data removed]",
      "text/plain": [
       "<Figure size 864x360 with 2 Axes>"
      ]
     },
     "metadata": {},
     "output_type": "display_data"
    }
   ],
   "source": [
    "# Create Heatmap with seaborn\n",
    "import seaborn as sns\n",
    "import matplotlib.pyplot as plt\n",
    "fig, ax = plt.subplots(figsize=(12, 5))\n",
    "sns.heatmap(goal_df2, \n",
    "            cmap=\"coolwarm\", \n",
    "            annot=True, \n",
    "            fmt=\".1f\", \n",
    "            linewidth=.5, \n",
    "            vmin=5, \n",
    "            vmax=17)\n",
    "\n",
    "plt.title('Zones of successfull goals shot in percentage', fontsize = 15)\n",
    "plt.xlabel('Side', fontsize = 12) \n",
    "plt.ylabel('Level', fontsize = 12) "
   ]
  },
  {
   "cell_type": "code",
   "execution_count": null,
   "id": "6fbb952c",
   "metadata": {
    "id": "6fbb952c",
    "outputId": "47738a66-c135-4622-9ee2-a0551eb3d221"
   },
   "outputs": [
    {
     "data": {
      "text/html": [
       "<div>\n",
       "<style scoped>\n",
       "    .dataframe tbody tr th:only-of-type {\n",
       "        vertical-align: middle;\n",
       "    }\n",
       "\n",
       "    .dataframe tbody tr th {\n",
       "        vertical-align: top;\n",
       "    }\n",
       "\n",
       "    .dataframe thead th {\n",
       "        text-align: right;\n",
       "    }\n",
       "</style>\n",
       "<table border=\"1\" class=\"dataframe\">\n",
       "  <thead>\n",
       "    <tr style=\"text-align: right;\">\n",
       "      <th></th>\n",
       "      <th>Goal_Zone</th>\n",
       "      <th>Goal_Level</th>\n",
       "      <th>Goal_Side</th>\n",
       "      <th>Goal</th>\n",
       "      <th>Elimination</th>\n",
       "    </tr>\n",
       "  </thead>\n",
       "  <tbody>\n",
       "    <tr>\n",
       "      <th>9</th>\n",
       "      <td>9</td>\n",
       "      <td>down</td>\n",
       "      <td>R</td>\n",
       "      <td>1</td>\n",
       "      <td>1</td>\n",
       "    </tr>\n",
       "    <tr>\n",
       "      <th>11</th>\n",
       "      <td>9</td>\n",
       "      <td>down</td>\n",
       "      <td>R</td>\n",
       "      <td>1</td>\n",
       "      <td>1</td>\n",
       "    </tr>\n",
       "    <tr>\n",
       "      <th>21</th>\n",
       "      <td>7</td>\n",
       "      <td>down</td>\n",
       "      <td>L</td>\n",
       "      <td>1</td>\n",
       "      <td>1</td>\n",
       "    </tr>\n",
       "    <tr>\n",
       "      <th>28</th>\n",
       "      <td>4</td>\n",
       "      <td>middle</td>\n",
       "      <td>L</td>\n",
       "      <td>1</td>\n",
       "      <td>1</td>\n",
       "    </tr>\n",
       "    <tr>\n",
       "      <th>37</th>\n",
       "      <td>1</td>\n",
       "      <td>top</td>\n",
       "      <td>L</td>\n",
       "      <td>1</td>\n",
       "      <td>1</td>\n",
       "    </tr>\n",
       "  </tbody>\n",
       "</table>\n",
       "</div>"
      ],
      "text/plain": [
       "    Goal_Zone Goal_Level Goal_Side  Goal  Elimination\n",
       "9           9       down         R     1            1\n",
       "11          9       down         R     1            1\n",
       "21          7       down         L     1            1\n",
       "28          4     middle         L     1            1\n",
       "37          1        top         L     1            1"
      ]
     },
     "execution_count": 87,
     "metadata": {},
     "output_type": "execute_result"
    }
   ],
   "source": [
    "# create dataframe with only decicive shots\n",
    "# same procedure as above\n",
    "elim_goal_df = zone_df[zone_df.Elimination == 1]                        \n",
    "elim_goal_df.head()"
   ]
  },
  {
   "cell_type": "code",
   "execution_count": null,
   "id": "7dd1ffa8",
   "metadata": {
    "id": "7dd1ffa8",
    "outputId": "9b086dd4-d170-4598-eae0-f0b4f83636ce"
   },
   "outputs": [
    {
     "name": "stdout",
     "output_type": "stream",
     "text": [
      "1 [4]\n",
      "2 [4, 1]\n",
      "3 [4, 1, 4]\n",
      "4 [4, 1, 4, 3]\n",
      "5 [4, 1, 4, 3, 3]\n",
      "6 [4, 1, 4, 3, 3, 4]\n",
      "7 [4, 1, 4, 3, 3, 4, 12]\n",
      "8 [4, 1, 4, 3, 3, 4, 12, 4]\n",
      "9 [4, 1, 4, 3, 3, 4, 12, 4, 6]\n",
      "[4, 1, 4, 3, 3, 4, 12, 4, 6]\n"
     ]
    }
   ],
   "source": [
    "# count occurence of zone numbers\n",
    "elim_zones_list = elim_goal_df['Goal_Zone'].values.tolist()\n",
    "\n",
    "elim_count = []\n",
    "num = 0\n",
    "for num in range(1,10):\n",
    "    x = elim_zones_list.count(num)\n",
    "    elim_count.append(x)\n",
    "    print(num, elim_count)\n",
    "\n",
    "# show list\n",
    "print(elim_count)"
   ]
  },
  {
   "cell_type": "code",
   "execution_count": null,
   "id": "7b038ce3",
   "metadata": {
    "id": "7b038ce3",
    "outputId": "664f3758-1645-495a-9066-e922312e3ddc"
   },
   "outputs": [
    {
     "name": "stderr",
     "output_type": "stream",
     "text": [
      "C:\\Users\\rungw\\AppData\\Local\\Temp/ipykernel_28132/3642467169.py:23: SettingWithCopyWarning: \n",
      "A value is trying to be set on a copy of a slice from a DataFrame.\n",
      "Try using .loc[row_indexer,col_indexer] = value instead\n",
      "\n",
      "See the caveats in the documentation: https://pandas.pydata.org/pandas-docs/stable/user_guide/indexing.html#returning-a-view-versus-a-copy\n",
      "  elim_goal_df[\"Elim_Goal_count\"] = elim_goal_df.apply(f, axis=1)\n"
     ]
    },
    {
     "data": {
      "text/html": [
       "<div>\n",
       "<style scoped>\n",
       "    .dataframe tbody tr th:only-of-type {\n",
       "        vertical-align: middle;\n",
       "    }\n",
       "\n",
       "    .dataframe tbody tr th {\n",
       "        vertical-align: top;\n",
       "    }\n",
       "\n",
       "    .dataframe thead th {\n",
       "        text-align: right;\n",
       "    }\n",
       "</style>\n",
       "<table border=\"1\" class=\"dataframe\">\n",
       "  <thead>\n",
       "    <tr style=\"text-align: right;\">\n",
       "      <th></th>\n",
       "      <th>Goal_Zone</th>\n",
       "      <th>Goal_Level</th>\n",
       "      <th>Goal_Side</th>\n",
       "      <th>Goal</th>\n",
       "      <th>Elimination</th>\n",
       "      <th>Elim_Goal_count</th>\n",
       "    </tr>\n",
       "  </thead>\n",
       "  <tbody>\n",
       "    <tr>\n",
       "      <th>9</th>\n",
       "      <td>9</td>\n",
       "      <td>down</td>\n",
       "      <td>R</td>\n",
       "      <td>1</td>\n",
       "      <td>1</td>\n",
       "      <td>14.63</td>\n",
       "    </tr>\n",
       "    <tr>\n",
       "      <th>11</th>\n",
       "      <td>9</td>\n",
       "      <td>down</td>\n",
       "      <td>R</td>\n",
       "      <td>1</td>\n",
       "      <td>1</td>\n",
       "      <td>14.63</td>\n",
       "    </tr>\n",
       "    <tr>\n",
       "      <th>21</th>\n",
       "      <td>7</td>\n",
       "      <td>down</td>\n",
       "      <td>L</td>\n",
       "      <td>1</td>\n",
       "      <td>1</td>\n",
       "      <td>29.27</td>\n",
       "    </tr>\n",
       "    <tr>\n",
       "      <th>28</th>\n",
       "      <td>4</td>\n",
       "      <td>middle</td>\n",
       "      <td>L</td>\n",
       "      <td>1</td>\n",
       "      <td>1</td>\n",
       "      <td>7.32</td>\n",
       "    </tr>\n",
       "    <tr>\n",
       "      <th>37</th>\n",
       "      <td>1</td>\n",
       "      <td>top</td>\n",
       "      <td>L</td>\n",
       "      <td>1</td>\n",
       "      <td>1</td>\n",
       "      <td>9.76</td>\n",
       "    </tr>\n",
       "  </tbody>\n",
       "</table>\n",
       "</div>"
      ],
      "text/plain": [
       "    Goal_Zone Goal_Level Goal_Side  Goal  Elimination  Elim_Goal_count\n",
       "9           9       down         R     1            1            14.63\n",
       "11          9       down         R     1            1            14.63\n",
       "21          7       down         L     1            1            29.27\n",
       "28          4     middle         L     1            1             7.32\n",
       "37          1        top         L     1            1             9.76"
      ]
     },
     "execution_count": 89,
     "metadata": {},
     "output_type": "execute_result"
    }
   ],
   "source": [
    "# add new column with counted goals in percent each zone\n",
    "def f(elim_goal_df):\n",
    "    if elim_goal_df['Goal_Zone'] == 1:\n",
    "        val = 9.76\n",
    "    elif elim_goal_df['Goal_Zone'] == 2:\n",
    "        val = 4.88\n",
    "    elif elim_goal_df['Goal_Zone'] == 3:\n",
    "        val = 9.76\n",
    "    elif elim_goal_df['Goal_Zone'] == 4:\n",
    "        val = 7.32\n",
    "    elif elim_goal_df['Goal_Zone'] == 5:\n",
    "        val = 7.32\n",
    "    elif elim_goal_df['Goal_Zone'] == 6:\n",
    "        val = 9.76\n",
    "    elif elim_goal_df['Goal_Zone'] == 7:\n",
    "        val = 29.27\n",
    "    elif elim_goal_df['Goal_Zone'] == 8:\n",
    "        val = 9.76\n",
    "    else:\n",
    "        val = 14.63\n",
    "    return val\n",
    "\n",
    "elim_goal_df[\"Elim_Goal_count\"] = elim_goal_df.apply(f, axis=1)\n",
    "elim_goal_df.head()"
   ]
  },
  {
   "cell_type": "code",
   "execution_count": null,
   "id": "cbb5d9aa",
   "metadata": {
    "id": "cbb5d9aa",
    "outputId": "843491e5-25fb-4245-e818-98ae684d73c4"
   },
   "outputs": [
    {
     "data": {
      "text/html": [
       "<div>\n",
       "<style scoped>\n",
       "    .dataframe tbody tr th:only-of-type {\n",
       "        vertical-align: middle;\n",
       "    }\n",
       "\n",
       "    .dataframe tbody tr th {\n",
       "        vertical-align: top;\n",
       "    }\n",
       "\n",
       "    .dataframe thead th {\n",
       "        text-align: right;\n",
       "    }\n",
       "</style>\n",
       "<table border=\"1\" class=\"dataframe\">\n",
       "  <thead>\n",
       "    <tr style=\"text-align: right;\">\n",
       "      <th>Goal_Side</th>\n",
       "      <th>L</th>\n",
       "      <th>C</th>\n",
       "      <th>R</th>\n",
       "    </tr>\n",
       "    <tr>\n",
       "      <th>Goal_Level</th>\n",
       "      <th></th>\n",
       "      <th></th>\n",
       "      <th></th>\n",
       "    </tr>\n",
       "  </thead>\n",
       "  <tbody>\n",
       "    <tr>\n",
       "      <th>top</th>\n",
       "      <td>9.76</td>\n",
       "      <td>4.88</td>\n",
       "      <td>9.76</td>\n",
       "    </tr>\n",
       "    <tr>\n",
       "      <th>middle</th>\n",
       "      <td>7.32</td>\n",
       "      <td>7.32</td>\n",
       "      <td>9.76</td>\n",
       "    </tr>\n",
       "    <tr>\n",
       "      <th>down</th>\n",
       "      <td>29.27</td>\n",
       "      <td>9.76</td>\n",
       "      <td>14.63</td>\n",
       "    </tr>\n",
       "  </tbody>\n",
       "</table>\n",
       "</div>"
      ],
      "text/plain": [
       "Goal_Side       L     C      R\n",
       "Goal_Level                    \n",
       "top          9.76  4.88   9.76\n",
       "middle       7.32  7.32   9.76\n",
       "down        29.27  9.76  14.63"
      ]
     },
     "execution_count": 90,
     "metadata": {},
     "output_type": "execute_result"
    }
   ],
   "source": [
    "# create Pivot table\n",
    "elim_goal_df2 = pd.pivot_table(elim_goal_df,index=['Goal_Level'], columns = 'Goal_Side', values = \"Elim_Goal_count\")\n",
    "\n",
    "# change index and column order in pivot table\n",
    "col_order = [\"L\", \"C\", \"R\"]\n",
    "index_order = [\"top\", \"middle\", \"down\"]\n",
    "elim_goal_df2 = elim_goal_df2.reindex(col_order, axis=1)\n",
    "elim_goal_df2 = elim_goal_df2.reindex(index_order, axis=0)\n",
    "elim_goal_df2"
   ]
  },
  {
   "cell_type": "code",
   "execution_count": null,
   "id": "487366a5",
   "metadata": {
    "id": "487366a5",
    "outputId": "8cde78b3-a8c2-4551-8b8f-59ba7b1f5a25"
   },
   "outputs": [
    {
     "data": {
      "text/plain": [
       "Text(88.0, 0.5, 'Level')"
      ]
     },
     "execution_count": 91,
     "metadata": {},
     "output_type": "execute_result"
    },
    {
     "data": {
      "image/png": "[encoded data removed]",
      "text/plain": [
       "<Figure size 864x360 with 2 Axes>"
      ]
     },
     "metadata": {},
     "output_type": "display_data"
    }
   ],
   "source": [
    "# Create Heatmap with seaborn\n",
    "fig, ax = plt.subplots(figsize=(12, 5))\n",
    "sns.heatmap(elim_goal_df2, \n",
    "            cmap=\"coolwarm\", \n",
    "            annot=True, \n",
    "            fmt=\".1f\", \n",
    "            linewidth=.5, \n",
    "            vmin=5, \n",
    "            vmax=17)\n",
    "\n",
    "plt.title('Zones of successful decisive goals shot in percent', fontsize = 15)\n",
    "plt.xlabel('Side', fontsize = 12) \n",
    "plt.ylabel('Level', fontsize = 12) "
   ]
  },
  {
   "cell_type": "markdown",
   "id": "710c555a",
   "metadata": {
    "id": "710c555a"
   },
   "source": [
    "## Goalkeeper"
   ]
  },
  {
   "cell_type": "markdown",
   "id": "7bd9ef87",
   "metadata": {
    "id": "7bd9ef87"
   },
   "source": [
    "On which side of the goal does the goalkeeper catch the most shots? Do they change their behavior when it is the decisive goal?"
   ]
  },
  {
   "cell_type": "code",
   "execution_count": null,
   "id": "634fca4b",
   "metadata": {
    "id": "634fca4b",
    "outputId": "f735f910-6706-4298-d450-9417570556d4"
   },
   "outputs": [
    {
     "data": {
      "text/html": [
       "<div>\n",
       "<style scoped>\n",
       "    .dataframe tbody tr th:only-of-type {\n",
       "        vertical-align: middle;\n",
       "    }\n",
       "\n",
       "    .dataframe tbody tr th {\n",
       "        vertical-align: top;\n",
       "    }\n",
       "\n",
       "    .dataframe thead th {\n",
       "        text-align: right;\n",
       "    }\n",
       "</style>\n",
       "<table border=\"1\" class=\"dataframe\">\n",
       "  <thead>\n",
       "    <tr style=\"text-align: right;\">\n",
       "      <th></th>\n",
       "      <th>Keeper</th>\n",
       "      <th>Goal</th>\n",
       "      <th>OnTarget</th>\n",
       "      <th>Elimination</th>\n",
       "    </tr>\n",
       "  </thead>\n",
       "  <tbody>\n",
       "    <tr>\n",
       "      <th>0</th>\n",
       "      <td>R</td>\n",
       "      <td>1</td>\n",
       "      <td>1</td>\n",
       "      <td>0</td>\n",
       "    </tr>\n",
       "    <tr>\n",
       "      <th>1</th>\n",
       "      <td>C</td>\n",
       "      <td>1</td>\n",
       "      <td>1</td>\n",
       "      <td>0</td>\n",
       "    </tr>\n",
       "    <tr>\n",
       "      <th>2</th>\n",
       "      <td>L</td>\n",
       "      <td>1</td>\n",
       "      <td>1</td>\n",
       "      <td>0</td>\n",
       "    </tr>\n",
       "    <tr>\n",
       "      <th>3</th>\n",
       "      <td>C</td>\n",
       "      <td>1</td>\n",
       "      <td>1</td>\n",
       "      <td>0</td>\n",
       "    </tr>\n",
       "    <tr>\n",
       "      <th>4</th>\n",
       "      <td>L</td>\n",
       "      <td>1</td>\n",
       "      <td>1</td>\n",
       "      <td>0</td>\n",
       "    </tr>\n",
       "    <tr>\n",
       "      <th>...</th>\n",
       "      <td>...</td>\n",
       "      <td>...</td>\n",
       "      <td>...</td>\n",
       "      <td>...</td>\n",
       "    </tr>\n",
       "    <tr>\n",
       "      <th>314</th>\n",
       "      <td>L</td>\n",
       "      <td>0</td>\n",
       "      <td>1</td>\n",
       "      <td>0</td>\n",
       "    </tr>\n",
       "    <tr>\n",
       "      <th>315</th>\n",
       "      <td>R</td>\n",
       "      <td>1</td>\n",
       "      <td>1</td>\n",
       "      <td>0</td>\n",
       "    </tr>\n",
       "    <tr>\n",
       "      <th>317</th>\n",
       "      <td>L</td>\n",
       "      <td>1</td>\n",
       "      <td>1</td>\n",
       "      <td>0</td>\n",
       "    </tr>\n",
       "    <tr>\n",
       "      <th>318</th>\n",
       "      <td>L</td>\n",
       "      <td>1</td>\n",
       "      <td>1</td>\n",
       "      <td>0</td>\n",
       "    </tr>\n",
       "    <tr>\n",
       "      <th>319</th>\n",
       "      <td>R</td>\n",
       "      <td>1</td>\n",
       "      <td>1</td>\n",
       "      <td>1</td>\n",
       "    </tr>\n",
       "  </tbody>\n",
       "</table>\n",
       "<p>292 rows × 4 columns</p>\n",
       "</div>"
      ],
      "text/plain": [
       "    Keeper  Goal  OnTarget  Elimination\n",
       "0        R     1         1            0\n",
       "1        C     1         1            0\n",
       "2        L     1         1            0\n",
       "3        C     1         1            0\n",
       "4        L     1         1            0\n",
       "..     ...   ...       ...          ...\n",
       "314      L     0         1            0\n",
       "315      R     1         1            0\n",
       "317      L     1         1            0\n",
       "318      L     1         1            0\n",
       "319      R     1         1            1\n",
       "\n",
       "[292 rows x 4 columns]"
      ]
     },
     "execution_count": 92,
     "metadata": {},
     "output_type": "execute_result"
    }
   ],
   "source": [
    "# create Dataframe with only necessary variables\n",
    "gk_df = df[[\"Keeper\",\"Goal\", \"OnTarget\", \"Elimination\"]]\n",
    "\n",
    "# Selecting rows with only goals that not shot outside\n",
    "gk_df = gk_df[(gk_df.OnTarget == 1)]           \n",
    "gk_df "
   ]
  },
  {
   "cell_type": "code",
   "execution_count": null,
   "id": "2a3edf67",
   "metadata": {
    "id": "2a3edf67",
    "outputId": "d7bcebf7-b55f-4ed5-8f13-1dc0447aa275"
   },
   "outputs": [
    {
     "name": "stdout",
     "output_type": "stream",
     "text": [
      "[37, 5, 28] [104, 28, 88]\n"
     ]
    }
   ],
   "source": [
    "# Count number of Goalkeeper side catched and not catched\n",
    "gk_left = gk_df.query(\"Keeper == 'L' & Goal == 0\").shape[0]\n",
    "gk_left_g = gk_df.query(\"Keeper == 'L' & Goal == 1\").shape[0]\n",
    "\n",
    "gk_center = gk_df.query(\"Keeper == 'C' & Goal == 0\").shape[0]\n",
    "gk_center_g = gk_df.query(\"Keeper == 'C' & Goal == 1\").shape[0]\n",
    "\n",
    "gk_right = gk_df.query(\"Keeper == 'R' & Goal == 0\").shape[0]\n",
    "gk_right_g = gk_df.query(\"Keeper == 'R' & Goal == 1\").shape[0]\n",
    "\n",
    "gk_catched = [gk_left, gk_center, gk_right]\n",
    "gk_goal = [gk_left_g, gk_center_g, gk_right_g]\n",
    "\n",
    "print(gk_catched, gk_goal)"
   ]
  },
  {
   "cell_type": "code",
   "execution_count": null,
   "id": "7bf32728",
   "metadata": {
    "id": "7bf32728",
    "outputId": "ed130e0f-fea3-4ac4-e0c0-06e365e24847"
   },
   "outputs": [
    {
     "data": {
      "text/plain": [
       "[26.24, 15.15, 24.14]"
      ]
     },
     "execution_count": 94,
     "metadata": {},
     "output_type": "execute_result"
    }
   ],
   "source": [
    "# get relative number of catched goals to not catched goals on each side\n",
    "gk_pct = []\n",
    "for i, j in zip(gk_catched, gk_goal):\n",
    "    gk_pct.append((i/(i + j)) * 100)\n",
    "\n",
    "gk_pct = [round(num, 2) for num in gk_pct]\n",
    "gk_pct"
   ]
  },
  {
   "cell_type": "code",
   "execution_count": null,
   "id": "c6fdc7b1",
   "metadata": {
    "id": "c6fdc7b1",
    "outputId": "ea42da58-c99d-4b41-86ed-325e54fa48c8"
   },
   "outputs": [
    {
     "data": {
      "text/plain": [
       "<function matplotlib.pyplot.show(close=None, block=None)>"
      ]
     },
     "execution_count": 95,
     "metadata": {},
     "output_type": "execute_result"
    },
    {
     "data": {
      "image/png": "[encoded data removed]",
      "text/plain": [
       "<Figure size 432x288 with 1 Axes>"
      ]
     },
     "metadata": {},
     "output_type": "display_data"
    }
   ],
   "source": [
    "fig, ax = plt.subplots()\n",
    "\n",
    "# create bar chart\n",
    "ax.bar(goal_side, gk_pct, color ='mediumseagreen')\n",
    "plt.xlabel(\"Side of goal\")\n",
    "plt.ylabel(\"Relative number of catches\")\n",
    "plt.title(\"Side the goalkeeper leaps\")\n",
    "\n",
    "# display value inside bar\n",
    "for bar in ax.patches:\n",
    "  ax.text(bar.get_x() + bar.get_width() / 2,\n",
    "          bar.get_height() / 2 + bar.get_y(),\n",
    "          round(bar.get_height()), ha = 'center',\n",
    "          color = 'w', weight = 'bold', size = 10)\n",
    "\n",
    "plt.show"
   ]
  },
  {
   "cell_type": "markdown",
   "id": "f5b2c1b7",
   "metadata": {
    "id": "f5b2c1b7"
   },
   "source": [
    "#### Which side does goalkeeper decide during elimination phase?"
   ]
  },
  {
   "cell_type": "code",
   "execution_count": null,
   "id": "2ea9f678",
   "metadata": {
    "id": "2ea9f678",
    "outputId": "2cfb1665-cde0-45f2-a2ac-f4bd0d97a29e"
   },
   "outputs": [
    {
     "data": {
      "text/plain": [
       "[14, 4, 17]"
      ]
     },
     "execution_count": 96,
     "metadata": {},
     "output_type": "execute_result"
    }
   ],
   "source": [
    "# get number of occurence of each side\n",
    "elim_gk_left = gk_df.query(\"Keeper == 'L' & Elimination == 1\").shape[0]\n",
    "\n",
    "elim_gk_center = gk_df.query(\"Keeper == 'C' & Elimination == 1\").shape[0]\n",
    "\n",
    "elim_gk_right = gk_df.query(\"Keeper == 'R' & Elimination == 1\").shape[0]\n",
    "\n",
    "elim_gk = [elim_gk_left, elim_gk_center, elim_gk_right]\n",
    "elim_gk"
   ]
  },
  {
   "cell_type": "code",
   "execution_count": null,
   "id": "76d2e077",
   "metadata": {
    "id": "76d2e077",
    "outputId": "d21f65e5-4a96-478d-8109-d522403f25b1"
   },
   "outputs": [
    {
     "data": {
      "text/plain": [
       "[40.0, 11.43, 48.57]"
      ]
     },
     "execution_count": 97,
     "metadata": {},
     "output_type": "execute_result"
    }
   ],
   "source": [
    "# relative numbers of all sides during elimination stage\n",
    "elim_pct = []\n",
    "for i in elim_gk:\n",
    "    elim_pct.append((i/35) * 100)\n",
    "\n",
    "elim_pct = [round(num, 2) for num in elim_pct]\n",
    "elim_pct"
   ]
  },
  {
   "cell_type": "code",
   "execution_count": null,
   "id": "cb7044b2",
   "metadata": {
    "id": "cb7044b2",
    "outputId": "e399b71e-e4a6-45ac-868e-99f4cfbac4ec"
   },
   "outputs": [
    {
     "data": {
      "text/plain": [
       "[141, 33, 116]"
      ]
     },
     "execution_count": 98,
     "metadata": {},
     "output_type": "execute_result"
    }
   ],
   "source": [
    "normal_gk = [gk_catched[i] + gk_goal[i] for i in range(len(gk_catched))] \n",
    "normal_gk"
   ]
  },
  {
   "cell_type": "code",
   "execution_count": null,
   "id": "77b0719b",
   "metadata": {
    "id": "77b0719b",
    "outputId": "59bfcfb8-9b0b-4ebe-cb0f-173700b59080"
   },
   "outputs": [
    {
     "data": {
      "text/plain": [
       "[48.62, 11.38, 40.0]"
      ]
     },
     "execution_count": 99,
     "metadata": {},
     "output_type": "execute_result"
    }
   ],
   "source": [
    "# relative numbers of all sides during elimination stage\n",
    "elim_pct = []\n",
    "for i in normal_gk:\n",
    "    elim_pct.append((i/290) * 100)\n",
    "\n",
    "normal_pct = [round(num, 2) for num in elim_pct]\n",
    "normal_pct"
   ]
  },
  {
   "cell_type": "code",
   "execution_count": null,
   "id": "57fed2b6",
   "metadata": {
    "id": "57fed2b6",
    "outputId": "c1059a6d-089e-417a-ae89-039cd73382ab",
    "scrolled": true
   },
   "outputs": [
    {
     "data": {
      "text/plain": [
       "<function matplotlib.pyplot.show(close=None, block=None)>"
      ]
     },
     "execution_count": 100,
     "metadata": {},
     "output_type": "execute_result"
    },
    {
     "data": {
      "image/png": "[encoded data removed]",
      "text/plain": [
       "<Figure size 432x288 with 1 Axes>"
      ]
     },
     "metadata": {},
     "output_type": "display_data"
    }
   ],
   "source": [
    "import numpy as np\n",
    "# create x value\n",
    "x = np.arange(len(goal_side))\n",
    "width = 0.4\n",
    "\n",
    "normal_pct = [48.62, 11.38, 40.0]\n",
    "elim_pct = [40.0, 11.43, 48.57]\n",
    "\n",
    "# create plot\n",
    "fig, ax = plt.subplots()\n",
    "bar1 = ax.bar(x - width/2, elim_pct, color ='mediumseagreen', width = width, label = \"TRUE\")\n",
    "bar2 = ax.bar(x + width/2, normal_pct, color ='salmon', width = width, label = \"FALSE\")\n",
    "\n",
    "# set labels and display value in bars\n",
    "plt.xlabel(\"Side of goal\")\n",
    "plt.ylabel(\"Relative number of occurence\")\n",
    "plt.title(\"Side the goalkeeper leaps during the decisive shot\")\n",
    "\n",
    "# display value inside bar\n",
    "for bar in ax.patches:\n",
    "  ax.text(bar.get_x() + bar.get_width() / 2,\n",
    "          bar.get_height() / 2 + bar.get_y(),\n",
    "          round(bar.get_height()), ha = 'center',\n",
    "          color = 'w', weight = 'bold', size = 10)\n",
    "\n",
    "ax.set_xticks(x)\n",
    "ax.set_xticklabels(goal_side)\n",
    "ax.legend()\n",
    "\n",
    "plt.show"
   ]
  }
 ],
 "metadata": {
  "colab": {
   "provenance": []
  },
  "kernelspec": {
   "display_name": "Python 3 (ipykernel)",
   "language": "python",
   "name": "python3"
  },
  "language_info": {
   "codemirror_mode": {
    "name": "ipython",
    "version": 3
   },
   "file_extension": ".py",
   "mimetype": "text/x-python",
   "name": "python",
   "nbconvert_exporter": "python",
   "pygments_lexer": "ipython3",
   "version": "3.8.10"
  },
  "toc": {
   "base_numbering": 1,
   "nav_menu": {},
   "number_sections": true,
   "sideBar": true,
   "skip_h1_title": false,
   "title_cell": "Table of Contents",
   "title_sidebar": "Contents",
   "toc_cell": true,
   "toc_position": {},
   "toc_section_display": true,
   "toc_window_display": false
  }
 },
 "nbformat": 4,
 "nbformat_minor": 5
}
